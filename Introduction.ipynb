{
  "nbformat": 4,
  "nbformat_minor": 0,
  "metadata": {
    "colab": {
      "name": "Introduction.ipynb",
      "provenance": [],
      "authorship_tag": "ABX9TyM7rjogdb6UyOPf1BmOge6+",
      "include_colab_link": true
    },
    "kernelspec": {
      "name": "python3",
      "display_name": "Python 3"
    },
    "language_info": {
      "name": "python"
    }
  },
  "cells": [
    {
      "cell_type": "markdown",
      "metadata": {
        "id": "view-in-github",
        "colab_type": "text"
      },
      "source": [
        "<a href=\"https://colab.research.google.com/github/NewtonSawitta/BasicProg_DataViz65/blob/main/Introduction.ipynb\" target=\"_parent\"><img src=\"https://colab.research.google.com/assets/colab-badge.svg\" alt=\"Open In Colab\"/></a>"
      ]
    },
    {
      "cell_type": "markdown",
      "source": [
        "สวิตตา สมศรี (633020448-3)"
      ],
      "metadata": {
        "id": "_eru0bgmFbUb"
      }
    },
    {
      "cell_type": "markdown",
      "source": [
        "# Markdown\n",
        "https://www.markdownguide.org/cheat-sheet/"
      ],
      "metadata": {
        "id": "DMxDwC4MGsnX"
      }
    },
    {
      "cell_type": "markdown",
      "source": [
        "## heading2"
      ],
      "metadata": {
        "id": "pxCD63GlG_PG"
      }
    },
    {
      "cell_type": "code",
      "source": [
        "print('Sawitta')"
      ],
      "metadata": {
        "colab": {
          "base_uri": "https://localhost:8080/"
        },
        "id": "jVOqKZ7NHEeI",
        "outputId": "80887d44-358b-4663-a6b4-279810bd802c"
      },
      "execution_count": 2,
      "outputs": [
        {
          "output_type": "stream",
          "name": "stdout",
          "text": [
            "Sawitta\n"
          ]
        }
      ]
    }
  ]
}