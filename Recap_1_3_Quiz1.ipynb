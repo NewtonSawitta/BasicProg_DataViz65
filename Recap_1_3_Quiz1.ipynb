{
  "nbformat": 4,
  "nbformat_minor": 0,
  "metadata": {
    "colab": {
      "name": "Recap_1_3_Quiz1.ipynb",
      "provenance": [],
      "authorship_tag": "ABX9TyO+moZt5C7z+ef8Fqm/IryV",
      "include_colab_link": true
    },
    "kernelspec": {
      "name": "python3",
      "display_name": "Python 3"
    },
    "language_info": {
      "name": "python"
    }
  },
  "cells": [
    {
      "cell_type": "markdown",
      "metadata": {
        "id": "view-in-github",
        "colab_type": "text"
      },
      "source": [
        "<a href=\"https://colab.research.google.com/github/NewtonSawitta/BasicProg_DataViz65/blob/main/Recap_1_3_Quiz1.ipynb\" target=\"_parent\"><img src=\"https://colab.research.google.com/assets/colab-badge.svg\" alt=\"Open In Colab\"/></a>"
      ]
    },
    {
      "cell_type": "markdown",
      "source": [
        "Quiz 1\n",
        "\n",
        "คำนวณเวลาเป็นวินาทีของเวลาต่อไปนี้โดยใช้คำสั่ง split() ช่วย และ print ออกมาให้สวยงาม\n",
        "\n",
        "- 09:11:50 - 12:30:15\n",
        "- 13:41:07 - 20:00:18\n",
        "- 21:30:15 - 00:00:00\n",
        "- 00:00:00 - 23:59:59"
      ],
      "metadata": {
        "id": "oJZAM7iE3LuK"
      }
    },
    {
      "cell_type": "code",
      "source": [
        "time1 = '09:11:50'\n",
        "print(time1) \n",
        "sp_time1 = time1.split(':')\n",
        "print(sp_time1)\n",
        "total_time1 = int(sp_time1[0])*60*60 + int(sp_time1[1])*60 + int(sp_time1[2])\n",
        "time2 = '12:30:15'\n",
        "print(time2) \n",
        "sp_time2 = time2.split(':')\n",
        "print(sp_time2)\n",
        "total_time2 = int(sp_time2[0])*60*60 + int(sp_time2[1])*60 + int(sp_time2[2])\n",
        "print(f'เวลา {time1} ถึง {time2} มีระยะเวลาต่างกันอยู่ {total_time2 - total_time1} วินาที')"
      ],
      "metadata": {
        "colab": {
          "base_uri": "https://localhost:8080/"
        },
        "id": "fWRvZ646H-h8",
        "outputId": "062ec3d8-8e75-4b3e-f0ad-144b6b6e5018"
      },
      "execution_count": 22,
      "outputs": [
        {
          "output_type": "stream",
          "name": "stdout",
          "text": [
            "09:11:50\n",
            "['09', '11', '50']\n",
            "12:30:15\n",
            "['12', '30', '15']\n",
            "เวลา 09:11:50 ถึง 12:30:15 มีระยะเวลาต่างกันอยู่ 11905 วินาที\n"
          ]
        }
      ]
    },
    {
      "cell_type": "code",
      "source": [
        "time1 = '13:41:07'\n",
        "print(time1) \n",
        "sp_time1 = time1.split(':')\n",
        "print(sp_time1)\n",
        "total_time1 = int(sp_time1[0])*60*60 + int(sp_time1[1])*60 + int(sp_time1[2])\n",
        "time2 = '20:00:18'\n",
        "print(time2) \n",
        "sp_time2 = time2.split(':')\n",
        "print(sp_time2)\n",
        "total_time2 = int(sp_time2[0])*60*60 + int(sp_time2[1])*60 + int(sp_time2[2])\n",
        "print(f'เวลา {time1} ถึง {time2} มีระยะเวลาต่างกันอยู่ {total_time2 - total_time1} วินาที')"
      ],
      "metadata": {
        "colab": {
          "base_uri": "https://localhost:8080/"
        },
        "id": "zisVlMcGMGOG",
        "outputId": "7cf756d7-8ff2-4622-a7f2-5b2e3b643abd"
      },
      "execution_count": 25,
      "outputs": [
        {
          "output_type": "stream",
          "name": "stdout",
          "text": [
            "13:41:07\n",
            "['13', '41', '07']\n",
            "20:00:18\n",
            "['20', '00', '18']\n",
            "เวลา 13:41:07 ถึง 20:00:18 มีระยะเวลาต่างกันอยู่ 22751 วินาที\n"
          ]
        }
      ]
    },
    {
      "cell_type": "code",
      "source": [
        "time1 = '21:30:15'\n",
        "print(time1) \n",
        "sp_time1 = time1.split(':')\n",
        "print(sp_time1)\n",
        "total_time1 = int(sp_time1[0])*60*60 + int(sp_time1[1])*60 + int(sp_time1[2])\n",
        "time2 = '24:00:00'\n",
        "print(time2) \n",
        "sp_time2 = time2.split(':')\n",
        "print(sp_time2)\n",
        "total_time2 = int(sp_time2[0])*60*60 + int(sp_time2[1])*60 + int(sp_time2[2])\n",
        "print(f'เวลา {time1} ถึง {time2} มีระยะเวลาต่างกันอยู่ {total_time2 - total_time1} วินาที')"
      ],
      "metadata": {
        "colab": {
          "base_uri": "https://localhost:8080/"
        },
        "id": "SDSMYiNeMT29",
        "outputId": "a93b24e9-f896-4820-d1cf-a6819dc58920"
      },
      "execution_count": 24,
      "outputs": [
        {
          "output_type": "stream",
          "name": "stdout",
          "text": [
            "21:30:15\n",
            "['21', '30', '15']\n",
            "24:00:00\n",
            "['24', '00', '00']\n",
            "เวลา 21:30:15 ถึง 24:00:00 มีระยะเวลาต่างกันอยู่ 8985 วินาที\n"
          ]
        }
      ]
    },
    {
      "cell_type": "code",
      "source": [
        "time1 = '00:00:00'\n",
        "print(time1) \n",
        "sp_time1 = time1.split(':')\n",
        "print(sp_time1)\n",
        "total_time1 = int(sp_time1[0])*60*60 + int(sp_time1[1])*60 + int(sp_time1[2])\n",
        "time2 = '23:59:59'\n",
        "print(time2) \n",
        "sp_time2 = time2.split(':')\n",
        "print(sp_time2)\n",
        "total_time2 = int(sp_time2[0])*60*60 + int(sp_time2[1])*60 + int(sp_time2[2])\n",
        "print(f'เวลา {time1} ถึง {time2} มีระยะเวลาต่างกันอยู่ {total_time2 - total_time1} วินาที')"
      ],
      "metadata": {
        "colab": {
          "base_uri": "https://localhost:8080/"
        },
        "id": "SvAEjZlVMe3u",
        "outputId": "eaa91963-861f-40ee-8f27-f2698c95ac90"
      },
      "execution_count": 23,
      "outputs": [
        {
          "output_type": "stream",
          "name": "stdout",
          "text": [
            "00:00:00\n",
            "['00', '00', '00']\n",
            "23:59:59\n",
            "['23', '59', '59']\n",
            "เวลา 00:00:00 ถึง 23:59:59 มีระยะเวลาต่างกันอยู่ 86399 วินาที\n"
          ]
        }
      ]
    }
  ]
}