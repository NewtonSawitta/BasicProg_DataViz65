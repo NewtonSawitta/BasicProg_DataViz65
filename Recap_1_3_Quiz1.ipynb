{
  "nbformat": 4,
  "nbformat_minor": 0,
  "metadata": {
    "colab": {
      "name": "Recap_1_3_Quiz1.ipynb",
      "provenance": [],
      "authorship_tag": "ABX9TyNqdY6XMNqmdS+Ar09StFLu",
      "include_colab_link": true
    },
    "kernelspec": {
      "name": "python3",
      "display_name": "Python 3"
    },
    "language_info": {
      "name": "python"
    }
  },
  "cells": [
    {
      "cell_type": "markdown",
      "metadata": {
        "id": "view-in-github",
        "colab_type": "text"
      },
      "source": [
        "<a href=\"https://colab.research.google.com/github/NewtonSawitta/BasicProg_DataViz65/blob/main/Recap_1_3_Quiz1.ipynb\" target=\"_parent\"><img src=\"https://colab.research.google.com/assets/colab-badge.svg\" alt=\"Open In Colab\"/></a>"
      ]
    },
    {
      "cell_type": "markdown",
      "source": [
        "Quiz 1\n",
        "\n",
        "คำนวณเวลาเป็นวินาทีของเวลาต่อไปนี้โดยใช้คำสั่ง split() ช่วย และ print ออกมาให้สวยงาม\n",
        "\n",
        "- 09:11:50 - 12:30:15\n",
        "- 13:41:07 - 20:00:18\n",
        "- 21:30:15 - 00:00:00\n",
        "- 00:00:00 - 23:59:59"
      ],
      "metadata": {
        "id": "oJZAM7iE3LuK"
      }
    },
    {
      "cell_type": "code",
      "execution_count": 3,
      "metadata": {
        "colab": {
          "base_uri": "https://localhost:8080/"
        },
        "id": "9Cimfazh2yQg",
        "outputId": "76abd6a3-0912-4403-9c32-e70d29e37b68"
      },
      "outputs": [
        {
          "output_type": "stream",
          "name": "stdout",
          "text": [
            "09:11:50 - 12:30:15 มีเวลาต่างกัน 11905 วินาที\n"
          ]
        }
      ],
      "source": [
        "#09:11:50 - 12:30:15\n",
        "\n",
        "a = ((12*60*60) + (30*60) + 15) - ((9*60*60) + (11*60) + 50)\n",
        "print(f'09:11:50 - 12:30:15 มีเวลาต่างกัน {a} วินาที')"
      ]
    },
    {
      "cell_type": "code",
      "source": [
        "#13:41:07 - 20:00:18\n",
        "\n",
        "a = ((20*60*60) + 18) - ((13*60*60) + (41*60) + 7)\n",
        "print(f'13:41:07 - 20:00:18 มีเวลาต่างกัน {a} วินาที')"
      ],
      "metadata": {
        "colab": {
          "base_uri": "https://localhost:8080/"
        },
        "id": "tqzaVJvQ5BuA",
        "outputId": "7f6f0a3a-d73d-4a11-ae64-d96c8eae724e"
      },
      "execution_count": 2,
      "outputs": [
        {
          "output_type": "stream",
          "name": "stdout",
          "text": [
            "13:41:07 - 20:00:18 มีเวลาต่างกัน 22751 วินาที\n"
          ]
        }
      ]
    },
    {
      "cell_type": "code",
      "source": [
        "#21:30:15 - 00:00:00\n",
        "\n",
        "a = ((24*60*60)) - ((21*60*60) + (30*60) + 15) \n",
        "print(f'21:30:15 - 00:00:00 มีเวลาต่างกัน {a} วินาที')"
      ],
      "metadata": {
        "colab": {
          "base_uri": "https://localhost:8080/"
        },
        "id": "dfH222hW5fBr",
        "outputId": "fafe29ae-fcc0-4a42-d9b1-7bc41963e1f6"
      },
      "execution_count": 10,
      "outputs": [
        {
          "output_type": "stream",
          "name": "stdout",
          "text": [
            "21:30:15 - 00:00:00 มีเวลาต่างกัน 8985 วินาที\n"
          ]
        }
      ]
    },
    {
      "cell_type": "code",
      "source": [
        "#00:00:00 - 23:59:59\n",
        "\n",
        "a = ((23*60*60) + (59*60) + 59) - 0 \n",
        "print(f'00:00:00 - 23:59:59 มีเวลาต่างกัน {a} วินาที')"
      ],
      "metadata": {
        "colab": {
          "base_uri": "https://localhost:8080/"
        },
        "id": "k_q2i4nH6FzD",
        "outputId": "af4f02c6-2ec1-4da5-8524-274adb49fdb3"
      },
      "execution_count": 7,
      "outputs": [
        {
          "output_type": "stream",
          "name": "stdout",
          "text": [
            "00:00:00 - 23:59:59 มีเวลาต่างกัน 86399 วินาที\n"
          ]
        }
      ]
    },
    {
      "cell_type": "code",
      "source": [
        ""
      ],
      "metadata": {
        "id": "StodFeuJ6ZOa"
      },
      "execution_count": null,
      "outputs": []
    }
  ]
}