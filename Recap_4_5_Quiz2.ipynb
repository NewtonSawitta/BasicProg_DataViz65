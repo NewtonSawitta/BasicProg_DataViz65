{
  "nbformat": 4,
  "nbformat_minor": 0,
  "metadata": {
    "colab": {
      "name": "Recap_4_5_Quiz2.ipynb",
      "provenance": [],
      "authorship_tag": "ABX9TyNsHntLNSYy9k9gY0pUHhGv",
      "include_colab_link": true
    },
    "kernelspec": {
      "name": "python3",
      "display_name": "Python 3"
    },
    "language_info": {
      "name": "python"
    }
  },
  "cells": [
    {
      "cell_type": "markdown",
      "metadata": {
        "id": "view-in-github",
        "colab_type": "text"
      },
      "source": [
        "<a href=\"https://colab.research.google.com/github/NewtonSawitta/BasicProg_DataViz65/blob/main/Recap_4_5_Quiz2.ipynb\" target=\"_parent\"><img src=\"https://colab.research.google.com/assets/colab-badge.svg\" alt=\"Open In Colab\"/></a>"
      ]
    },
    {
      "cell_type": "code",
      "execution_count": 16,
      "metadata": {
        "id": "a6NHH9qhDKaS"
      },
      "outputs": [],
      "source": [
        "# Matrix Slicing"
      ]
    },
    {
      "cell_type": "code",
      "source": [
        "import numpy "
      ],
      "metadata": {
        "id": "N37N4MV-DRB3"
      },
      "execution_count": 17,
      "outputs": []
    },
    {
      "cell_type": "code",
      "source": [
        "mat_a = numpy.array([[2,4,5],[1,2,3],[9,8,7],[3,6,9]])"
      ],
      "metadata": {
        "id": "_QfIJRtYDVAI"
      },
      "execution_count": 18,
      "outputs": []
    },
    {
      "cell_type": "code",
      "source": [
        "list_a = [[2,4,5],[1,2,3],[9,8,7],[3,6,9]]\n",
        "mat_a = numpy.array(list_a)\n",
        "mat_a"
      ],
      "metadata": {
        "colab": {
          "base_uri": "https://localhost:8080/"
        },
        "id": "R7AOCFlSDTCA",
        "outputId": "0a0abdbb-22cf-4ca8-9c72-5e30e9467187"
      },
      "execution_count": 19,
      "outputs": [
        {
          "output_type": "execute_result",
          "data": {
            "text/plain": [
              "array([[2, 4, 5],\n",
              "       [1, 2, 3],\n",
              "       [9, 8, 7],\n",
              "       [3, 6, 9]])"
            ]
          },
          "metadata": {},
          "execution_count": 19
        }
      ]
    },
    {
      "cell_type": "code",
      "source": [
        "import numpy as np"
      ],
      "metadata": {
        "id": "NCGWx2MWE1Fp"
      },
      "execution_count": 20,
      "outputs": []
    },
    {
      "cell_type": "code",
      "source": [
        "list_b = [[-1,-1,2,4,5],[-2,-2,1,2,3],[-3,-3,9,8,7],[-4,-4,3,6,9]]\n",
        "mat_b = np.array(list_b)\n",
        "mat_b"
      ],
      "metadata": {
        "colab": {
          "base_uri": "https://localhost:8080/"
        },
        "id": "kbVFda55E4aZ",
        "outputId": "bc5439e6-7547-4dab-c8b1-f142666679c2"
      },
      "execution_count": 21,
      "outputs": [
        {
          "output_type": "execute_result",
          "data": {
            "text/plain": [
              "array([[-1, -1,  2,  4,  5],\n",
              "       [-2, -2,  1,  2,  3],\n",
              "       [-3, -3,  9,  8,  7],\n",
              "       [-4, -4,  3,  6,  9]])"
            ]
          },
          "metadata": {},
          "execution_count": 21
        }
      ]
    },
    {
      "cell_type": "markdown",
      "source": [
        "## Quiz2\n",
        "\n",
        "1. Slice ค่าลบออกมาจาก mat_b \n",
        "2. Slice ```[1,2,3]``` จาก ```mat_a```\n",
        "3. Slice ```[1,3],[9,7],[3,9]``` ออกมาจาก ```mat_b```  "
      ],
      "metadata": {
        "id": "lAhTHdscFTTQ"
      }
    },
    {
      "cell_type": "code",
      "source": [
        "mat_b[:4,:2]"
      ],
      "metadata": {
        "colab": {
          "base_uri": "https://localhost:8080/"
        },
        "id": "NrRq81POFKgc",
        "outputId": "ab8d5cc7-da16-47a6-870e-f08ff71afeb9"
      },
      "execution_count": 22,
      "outputs": [
        {
          "output_type": "execute_result",
          "data": {
            "text/plain": [
              "array([[-1, -1],\n",
              "       [-2, -2],\n",
              "       [-3, -3],\n",
              "       [-4, -4]])"
            ]
          },
          "metadata": {},
          "execution_count": 22
        }
      ]
    },
    {
      "cell_type": "code",
      "source": [
        "mat_a[1]"
      ],
      "metadata": {
        "colab": {
          "base_uri": "https://localhost:8080/"
        },
        "id": "0plmX7WFG3O6",
        "outputId": "95110bdb-c103-4b6b-946a-60fff26e85c0"
      },
      "execution_count": 23,
      "outputs": [
        {
          "output_type": "execute_result",
          "data": {
            "text/plain": [
              "array([1, 2, 3])"
            ]
          },
          "metadata": {},
          "execution_count": 23
        }
      ]
    },
    {
      "cell_type": "code",
      "source": [
        "mat_b[-3:,2::2]"
      ],
      "metadata": {
        "colab": {
          "base_uri": "https://localhost:8080/"
        },
        "id": "lgYBstbWGues",
        "outputId": "700e7302-9503-4348-bf03-a14692023d7b"
      },
      "execution_count": 24,
      "outputs": [
        {
          "output_type": "execute_result",
          "data": {
            "text/plain": [
              "array([[1, 3],\n",
              "       [9, 7],\n",
              "       [3, 9]])"
            ]
          },
          "metadata": {},
          "execution_count": 24
        }
      ]
    },
    {
      "cell_type": "markdown",
      "source": [
        "# Function ```Print```"
      ],
      "metadata": {
        "id": "1-bvDdjHjO2D"
      }
    },
    {
      "cell_type": "code",
      "source": [
        "print()"
      ],
      "metadata": {
        "id": "dsFD97pgjW-g",
        "outputId": "bd7ed0b3-8108-4f9f-a987-05856b6bb588",
        "colab": {
          "base_uri": "https://localhost:8080/"
        }
      },
      "execution_count": 1,
      "outputs": [
        {
          "output_type": "stream",
          "name": "stdout",
          "text": [
            "\n"
          ]
        }
      ]
    },
    {
      "cell_type": "code",
      "source": [
        "print('สวัสดี')"
      ],
      "metadata": {
        "id": "Kx72JWcpja5a",
        "outputId": "c8ae0df6-448f-4e9e-a28b-336037891d9f",
        "colab": {
          "base_uri": "https://localhost:8080/"
        }
      },
      "execution_count": 35,
      "outputs": [
        {
          "output_type": "stream",
          "name": "stdout",
          "text": [
            "สวัสดี\n"
          ]
        }
      ]
    },
    {
      "cell_type": "code",
      "source": [
        "print('hello')\n",
        "print('สวัสดี')"
      ],
      "metadata": {
        "id": "lpjCNRjCohcp",
        "outputId": "1cc03398-39a6-430f-a86b-a8817e986a50",
        "colab": {
          "base_uri": "https://localhost:8080/"
        }
      },
      "execution_count": 36,
      "outputs": [
        {
          "output_type": "stream",
          "name": "stdout",
          "text": [
            "hello\n",
            "สวัสดี\n"
          ]
        }
      ]
    },
    {
      "cell_type": "code",
      "source": [
        "print('hello',end=' ')\n",
        "print('สวัสดี')"
      ],
      "metadata": {
        "id": "VJD04xm3ojuu",
        "outputId": "1dae6524-c03f-49fd-b673-e0932578080e",
        "colab": {
          "base_uri": "https://localhost:8080/"
        }
      },
      "execution_count": 41,
      "outputs": [
        {
          "output_type": "stream",
          "name": "stdout",
          "text": [
            "hello สวัสดี\n"
          ]
        }
      ]
    },
    {
      "cell_type": "code",
      "source": [
        "print('hello','สวัสดี')"
      ],
      "metadata": {
        "id": "1t6i1Hq3on8u",
        "outputId": "cc2663a8-de3f-4ee3-e4f0-1d6d8616d9e4",
        "colab": {
          "base_uri": "https://localhost:8080/"
        }
      },
      "execution_count": 38,
      "outputs": [
        {
          "output_type": "stream",
          "name": "stdout",
          "text": [
            "hello สวัสดี\n"
          ]
        }
      ]
    },
    {
      "cell_type": "code",
      "source": [
        "print('hello','สวัสดี',sep='\\n')"
      ],
      "metadata": {
        "id": "bu1q1Ezlopb1",
        "outputId": "605cc41f-c425-4718-e2e0-597d34fcfbcb",
        "colab": {
          "base_uri": "https://localhost:8080/"
        }
      },
      "execution_count": 39,
      "outputs": [
        {
          "output_type": "stream",
          "name": "stdout",
          "text": [
            "hello\n",
            "สวัสดี\n"
          ]
        }
      ]
    },
    {
      "cell_type": "code",
      "source": [
        "print('hello',end='')\n",
        "print('สวัสดี')"
      ],
      "metadata": {
        "id": "W7GM0aVrortq",
        "outputId": "1791cb66-6ff6-4dfc-dc28-0697d2a27a5c",
        "colab": {
          "base_uri": "https://localhost:8080/"
        }
      },
      "execution_count": 40,
      "outputs": [
        {
          "output_type": "stream",
          "name": "stdout",
          "text": [
            "helloสวัสดี\n"
          ]
        }
      ]
    },
    {
      "cell_type": "markdown",
      "source": [
        "## HW1\n",
        "\n",
        "เขียน function\n",
        "แสดงความต่างของเวลา (Quiz1)\n",
        "โดย input อยู่ในรูปแบบ ```'09:11:50 - 12:30:15'```\n",
        "\n",
        "และทดลองรัน\n",
        "\n",
        "* '09:11:50 - 12:30:15'\n",
        "* '13:41:07 - 20:00:18'\n",
        "* '00:00:00 - 23:59:59'"
      ],
      "metadata": {
        "id": "QgQ7MzOdjg5Y"
      }
    },
    {
      "cell_type": "code",
      "source": [
        "def time_1(n1,n2,n3,N1,N2,N3):\n",
        "    N = ((N1*3600) + (N2*60) + N3) - ((n1*3600) + (n2*60) + n3)\n",
        "    return N\n",
        "\n",
        "print(f'ความต่างของเวลา 09:11:50 - 12:30:15 คือ {time_1(9,11,50,12,30,15)} วินาที')"
      ],
      "metadata": {
        "id": "uoCFothDj9hO",
        "outputId": "90cc1d9d-5e0a-4b0a-911d-ffff36d0123c",
        "colab": {
          "base_uri": "https://localhost:8080/"
        }
      },
      "execution_count": 32,
      "outputs": [
        {
          "output_type": "stream",
          "name": "stdout",
          "text": [
            "ความต่างของเวลา 09:11:50 - 12:30:15 คือ 11905 วินาที\n"
          ]
        }
      ]
    },
    {
      "cell_type": "code",
      "source": [
        "def time_2(e1,e2,e3,E1,E2,E3):\n",
        "    E = ((E1*3600) + (E2*60) + E3) - ((e1*3600) + (e2*60) + e3)\n",
        "    return E\n",
        "\n",
        "print(f'ความต่างของเวลา 13:41:07 - 20:00:18 คือ {time_1(13,41,7,20,0,18)} วินาที')"
      ],
      "metadata": {
        "id": "MVmuyw92mzz7",
        "outputId": "51e2d56b-9392-4691-d190-118880202ec5",
        "colab": {
          "base_uri": "https://localhost:8080/"
        }
      },
      "execution_count": 33,
      "outputs": [
        {
          "output_type": "stream",
          "name": "stdout",
          "text": [
            "ความต่างของเวลา 13:41:07 - 20:00:18 คือ 22751 วินาที\n"
          ]
        }
      ]
    },
    {
      "cell_type": "code",
      "source": [
        "def time_3(w1,w2,w3,W1,W2,W3):\n",
        "    W = ((W*3600) + (W2*60) + W3) - ((w1*3600) + (w2*60) + w3)\n",
        "    return W\n",
        "\n",
        "print(f'ความต่างของเวลา 00:00:00 - 23:59:59 คือ {time_1(0,0,0,23,59,59)} วินาที')"
      ],
      "metadata": {
        "id": "wegUIbcMm8I4",
        "outputId": "916f274a-70aa-479d-ed16-4ae147aa538f",
        "colab": {
          "base_uri": "https://localhost:8080/"
        }
      },
      "execution_count": 34,
      "outputs": [
        {
          "output_type": "stream",
          "name": "stdout",
          "text": [
            "ความต่างของเวลา 00:00:00 - 23:59:59 คือ 86399 วินาที\n"
          ]
        }
      ]
    }
  ]
}